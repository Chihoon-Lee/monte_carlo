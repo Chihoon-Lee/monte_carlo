{
  "nbformat": 4,
  "nbformat_minor": 0,
  "metadata": {
    "colab": {
      "name": "surface area of sphere",
      "provenance": [],
      "collapsed_sections": []
    },
    "kernelspec": {
      "name": "python3",
      "display_name": "Python 3"
    },
    "language_info": {
      "name": "python"
    }
  },
  "cells": [
    {
      "cell_type": "markdown",
      "source": [
        "#Using Python to approximate the surface area of a sphere (Monte Carlo Method)\n",
        "> Nathan Lee\n",
        "\n",
        "The goal is to find the approximate surface area of a sphere with radius 1, without using $\\pi$. Similar to finding the circumference of a circle, the idea is to have a cube circumscribed around the sphere with radius 1, and to have another smaller sphere with a radius of about $1-\\epsilon$ inside of the bigger sphere. Here, we set $\\epsilon=0.001$. This will create a sphereical shell, whose volume, similar to the area of an annulus, will be approximately $\\epsilon\\times (\\text{surface area of the unit sphere})$. \n",
        "\n",
        "In order to find the approximate volume of the sphereical shell, random points are selected from inside the cube. Then, the number of points inside the spherical shell divided by the nubmer of points inside the cube is approximately equal to the volume of the spherical shell divided by the volume of the cube. Therefore, the volume of the spherical shell is about \n",
        "$$\n",
        "4\\times\\frac{\\text{number of points inside spherical shell}}{\\text{number of points in total}}.\n",
        "$$ To find the approximate surface area, divide the approximate volume of the spherical shell by $\\epsilon$, which results in about 12.57, or $4\\pi$. "
      ],
      "metadata": {
        "id": "tGxqcppIkFRW"
      }
    },
    {
      "cell_type": "code",
      "execution_count": 1,
      "metadata": {
        "colab": {
          "base_uri": "https://localhost:8080/"
        },
        "id": "ruDQGbVUxOge",
        "outputId": "844a8b21-7a52-40fa-b7ed-428db35802e8"
      },
      "outputs": [
        {
          "output_type": "stream",
          "name": "stdout",
          "text": [
            "4.00272\n"
          ]
        }
      ],
      "source": [
        "import random\n",
        "import math\n",
        "numberofdots = 0\n",
        "sphericalshell = 0\n",
        "epsilon = .001\n",
        "while numberofdots < 50000000:\n",
        "  x = random.uniform(-1,1) \n",
        "  y = random.uniform(-1,1) \n",
        "  z = random.uniform(-1,1)\n",
        "  d = math.sqrt(x**2 + y**2 + z**2) \n",
        "  if 1-epsilon<x<1:\n",
        "    sphericalshell = sphericalshell + 1\n",
        "  numberofdots = numberofdots + 1\n",
        "sphericalshellvolume = sphericalshell/numberofdots\n",
        "print(sphericalshellvolume*8/epsilon)"
      ]
    },
    {
      "cell_type": "code",
      "source": [
        ""
      ],
      "metadata": {
        "id": "iis1axse2fLx"
      },
      "execution_count": null,
      "outputs": []
    }
  ]
}