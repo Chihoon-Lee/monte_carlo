{
  "nbformat": 4,
  "nbformat_minor": 0,
  "metadata": {
    "colab": {
      "name": "volume of sphere",
      "provenance": [],
      "collapsed_sections": []
    },
    "kernelspec": {
      "name": "python3",
      "display_name": "Python 3"
    },
    "language_info": {
      "name": "python"
    }
  },
  "cells": [
    {
      "cell_type": "markdown",
      "source": [
        "#Using Python to approximate the volume of a sphere (Monte Carlo Method)\n",
        "> Nathan Lee\n",
        "\n",
        "The goal here is to find the approximate volume of a sphere with radius 1 without using $\\pi$. Similar to the area of a circle, a lot of points can be generated inside of a cube with side length 2 and see how many of them land inside of the sphere which is inscribed in the cube. \n",
        "\n",
        "Random x-values, y-values, and z-values are chosen from the range (-1,1) in order to generate points in a cube of side length 2. The distance from point (x,y,z) to (0,0,0) must be less than or equal to one in order for it to be inside of the sphere. If the inequality $x^2 + y^2 + z^2\\leq 1$ is true, then the point (x,y,z) must be inside the sphere. \n",
        "\n",
        "The total number of points within the sphere divided by the number of points in the cube is roughly equal to the volume of the sphere divided by the volume of the cube. Therefore, the volume of the sphere is approximately\n",
        "$$ \n",
        "8\\times\\frac{\\text{number of points inside sphere}}{\\text{number of points in total}},$$ which is close to $4\\pi/3 \\approx 4.18$."
      ],
      "metadata": {
        "id": "PM9V7Ybe7iHs"
      }
    },
    {
      "cell_type": "code",
      "execution_count": 1,
      "metadata": {
        "colab": {
          "base_uri": "https://localhost:8080/"
        },
        "id": "U0FlZGrsVHLw",
        "outputId": "14aaa601-b150-4348-989e-980bfcba219b"
      },
      "outputs": [
        {
          "output_type": "stream",
          "name": "stdout",
          "text": [
            "4.191704\n"
          ]
        }
      ],
      "source": [
        "import random\n",
        "numberofdots = 0\n",
        "numberinsidesphere = 0\n",
        "while numberofdots < 1000000:\n",
        "  x = random.uniform(-1,1) \n",
        "  y = random.uniform(-1,1) \n",
        "  z = random.uniform(-1,1)\n",
        "  d = (x**2 + y**2 + z**2) \n",
        "  if d <= 1:\n",
        "    numberinsidesphere += 1\n",
        "  numberofdots += 1\n",
        "n = numberinsidesphere/numberofdots \n",
        "print(n*8) "
      ]
    }
  ]
}